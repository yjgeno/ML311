{
 "cells": [
  {
   "cell_type": "code",
   "execution_count": 1,
   "metadata": {
    "colab": {},
    "colab_type": "code",
    "id": "1Rg2uSiFSRJe"
   },
   "outputs": [],
   "source": [
    "import numpy as np\n",
    "import pandas as pd \n",
    "import matplotlib.pyplot as plt \n",
    "import time"
   ]
  },
  {
   "cell_type": "markdown",
   "metadata": {
    "colab_type": "text",
    "id": "oDTSO7-MSRJj"
   },
   "source": [
    "# Problem 1\n",
    "## Dataset Generation"
   ]
  },
  {
   "cell_type": "markdown",
   "metadata": {
    "colab_type": "text",
    "id": "Tx7KW28cSRJk"
   },
   "source": [
    "Write a function to **generate a training set** of size $m$\n",
    "- randomly generate a weight vector $w \\in \\mathbb{R}^{10}$, normalize length\n",
    "- generate a training set $\\{(x_i , y_i)\\}$ of size m\n",
    "  - $x_i$: random vector in $\\mathbb{R}^{10}$ from $\\textbf{N}(0, 1)$\n",
    "  - $y_i$: $\\{0, +1\\}$ with $P[y = +1] = \\sigma(w \\cdot x_i)$ and $P[y = 0] = 1 - \\sigma(w \\cdot x_i)$"
   ]
  },
  {
   "cell_type": "code",
   "execution_count": 2,
   "metadata": {},
   "outputs": [],
   "source": [
    "import random\n",
    "from random import seed\n",
    "import math"
   ]
  },
  {
   "cell_type": "code",
   "execution_count": 3,
   "metadata": {
    "colab": {},
    "colab_type": "code",
    "id": "AUHuXrsgSRJl"
   },
   "outputs": [],
   "source": [
    "def generate_data(m): # returns the true w as well as X, Y data\n",
    "    y=[]\n",
    "    #seed(1)\n",
    "    X = [[random.gauss(0, 1) for _ in range(10)] for _ in range(m)] # element of X: 10d, size of X: m\n",
    "    \n",
    "    #seed(7)\n",
    "    w = [random.gauss(0, 1) for _ in range(10)]\n",
    "    w = [i/np.linalg.norm(w) for i in w] # normalize w\n",
    "    \n",
    "    \n",
    "    P = [1 / (1 + math.exp(-np.dot(w, x))) for x in X] # probability of being +1 by standard logistic function\n",
    "    \n",
    "    #seed(11)\n",
    "    y_list = [0, 1]\n",
    "    for p in P:\n",
    "        y.append(random.choices(y_list, [1-p,p], k=1)) # randomly select 0 or +1 by the probabilities, return a list\n",
    "    y = [int(y_i) for y_i in np.array(y)]\n",
    "    \n",
    "    return [X,y,w]\n",
    "    "
   ]
  },
  {
   "cell_type": "code",
   "execution_count": 4,
   "metadata": {},
   "outputs": [],
   "source": [
    "M = [50,100,150,200,250]"
   ]
  },
  {
   "cell_type": "code",
   "execution_count": 5,
   "metadata": {},
   "outputs": [
    {
     "data": {
      "text/plain": [
       "[[[-0.8408470696213624,\n",
       "   -0.23348901064713165,\n",
       "   -0.7229082116023909,\n",
       "   0.43119938737532526,\n",
       "   0.21934791483643873,\n",
       "   -0.7097191937918405,\n",
       "   1.1246802561509455,\n",
       "   0.1376678693069359,\n",
       "   0.9395325161086543,\n",
       "   -0.04326707423885803]],\n",
       " [0],\n",
       " [-0.09704053628549374,\n",
       "  -0.26617088422903185,\n",
       "  -0.0661093213128441,\n",
       "  -0.4333608999639601,\n",
       "  -0.6887314286342145,\n",
       "  -0.06567824209653268,\n",
       "  -0.39130257948308916,\n",
       "  0.12027590955605227,\n",
       "  -0.1648388888887341,\n",
       "  -0.23268779089371358]]"
      ]
     },
     "execution_count": 5,
     "metadata": {},
     "output_type": "execute_result"
    }
   ],
   "source": [
    "generate_data(1) # test"
   ]
  },
  {
   "cell_type": "markdown",
   "metadata": {
    "colab_type": "text",
    "id": "wx2-15fASRJy"
   },
   "source": [
    "## Algorithm 1: logistic regression\n",
    "\n",
    "The goal is to learn $w$.  Algorithm 1 is logistic\n",
    "  regression (you may use the built-in method LogisticRegression for this. Use max_iter=1000)."
   ]
  },
  {
   "cell_type": "code",
   "execution_count": 6,
   "metadata": {
    "colab": {},
    "colab_type": "code",
    "id": "Vj8b21jgSRJz"
   },
   "outputs": [],
   "source": [
    "from sklearn.linear_model import LogisticRegression"
   ]
  },
  {
   "cell_type": "code",
   "execution_count": 7,
   "metadata": {},
   "outputs": [],
   "source": [
    "def w_diff(m):\n",
    "    w_diff = []\n",
    "    for _ in range(10): # repeat 10 times\n",
    "        X = generate_data(m)[0]\n",
    "        y = generate_data(m)[1]\n",
    "        w = generate_data(m)[2]\n",
    "        logreg = LogisticRegression(solver='liblinear', max_iter=1000)\n",
    "        logreg.fit(X, y)\n",
    "        w_diff.append(np.linalg.norm(w-logreg.coef_)) # ∥w − w′∥\n",
    "    return np.mean(w_diff)  "
   ]
  },
  {
   "cell_type": "code",
   "execution_count": 8,
   "metadata": {},
   "outputs": [],
   "source": [
    "T = [] # record time"
   ]
  },
  {
   "cell_type": "code",
   "execution_count": 9,
   "metadata": {},
   "outputs": [],
   "source": [
    "start1 = time.time()"
   ]
  },
  {
   "cell_type": "code",
   "execution_count": 10,
   "metadata": {},
   "outputs": [
    {
     "data": {
      "text/plain": [
       "[1.4447408175332899,\n",
       " 1.2960217752013858,\n",
       " 1.0356826304136395,\n",
       " 1.0667677351834173,\n",
       " 1.05209069504623]"
      ]
     },
     "execution_count": 10,
     "metadata": {},
     "output_type": "execute_result"
    }
   ],
   "source": [
    "logreg_ans = [w_diff(m_i) for m_i in M] \n",
    "logreg_ans"
   ]
  },
  {
   "cell_type": "code",
   "execution_count": 11,
   "metadata": {},
   "outputs": [
    {
     "name": "stdout",
     "output_type": "stream",
     "text": [
      "0.5768938064575195\n"
     ]
    }
   ],
   "source": [
    "end1 = time.time()\n",
    "T.append(end1 - start1)\n",
    "print(end1 - start1)"
   ]
  },
  {
   "cell_type": "markdown",
   "metadata": {
    "colab_type": "text",
    "id": "YzmNdy6ZSRJ3"
   },
   "source": [
    "## Algorithm 2: gradient descent with square loss\n",
    "\n",
    "Define square loss as\n",
    "$$L_i(w^{(t)}) = \\frac{1}{2} \\left( \\sigma(w^{(t)} \\cdot x) - y_i \\right)^2$$\n",
    "\n",
    "  Algorithm 2 is\n",
    "  gradient descent with respect to square loss (code this\n",
    "  up yourself -- run for 1000 iterations, use step size eta = 0.01)."
   ]
  },
  {
   "cell_type": "markdown",
   "metadata": {},
   "source": [
    "The logistic sigmoid function: $$ \\sigma(w^{(t)} \\cdot x)  = \\frac {1}{(1 + e^{-w^{t} \\cdot x)}} $$ "
   ]
  },
  {
   "cell_type": "code",
   "execution_count": 12,
   "metadata": {},
   "outputs": [],
   "source": [
    "def sigmoid(z): # z = w′ · x\n",
    "    return 1 / (1 + np.exp(-1 * z)) # σ(w′ · x)"
   ]
  },
  {
   "cell_type": "markdown",
   "metadata": {},
   "source": [
    "The loss function (square loss): $$ L_i(w) = \\frac{1}{2} \\left( \\sigma(w^{t} \\cdot x) - y \\right)^2$$"
   ]
  },
  {
   "cell_type": "code",
   "execution_count": 13,
   "metadata": {},
   "outputs": [],
   "source": [
    "def loss(predicted, target): # predicted = σ(w′ · x), target = y\n",
    "    return 0.5*(np.power(predicted - target, 2))  #1/2(σ(w′ · x) − y)2"
   ]
  },
  {
   "cell_type": "markdown",
   "metadata": {},
   "source": [
    "We want the grandient of the loss function: $$\\nabla_w \\frac{1}{2} \\left( \\sigma(w^{t} \\cdot x) - y \\right)^2 $$ <br>\n",
    "Let $ z=w^{t} \\cdot x $, &emsp; $ r= ( \\sigma(w^{t} \\cdot x) - y) $, &emsp; we have <br>\n",
    "$$ \\nabla_w L_i(w) = \\nabla_w \\frac{1}{2} \\left( \\sigma(w^{t} \\cdot x) - y \\right)^2 = \\frac{\\partial L_i}{\\partial w} = \\frac{\\partial L_i}{\\partial r} * \\frac{\\partial r}{\\partial z} * \\frac{\\partial z}{\\partial w} $$"
   ]
  },
  {
   "cell_type": "markdown",
   "metadata": {},
   "source": [
    "Note: dot product of $\\sigma(w^{t} \\cdot x)$ is a scalar<br>\n",
    "https://stackoverflow.com/questions/30898562/which-number-represents-rows-and-columns-in-the-tuple-returned-by-shape"
   ]
  },
  {
   "cell_type": "markdown",
   "metadata": {},
   "source": [
    "Calculate each derivative:"
   ]
  },
  {
   "cell_type": "markdown",
   "metadata": {},
   "source": [
    "$$ \\frac{\\partial L_i}{\\partial w} =  \\sigma(w^{t} \\cdot x) - y $$"
   ]
  },
  {
   "cell_type": "code",
   "execution_count": 14,
   "metadata": {},
   "outputs": [],
   "source": [
    "def loss_deriv(predicted, target):\n",
    "    return predicted - target # σ(w′ · x) − y"
   ]
  },
  {
   "cell_type": "markdown",
   "metadata": {},
   "source": [
    "$$ \\frac{\\partial r}{\\partial z} = \\sigma(w^{t} \\cdot x)*(1-\\sigma(w^{t} \\cdot x)) $$"
   ]
  },
  {
   "cell_type": "code",
   "execution_count": 15,
   "metadata": {},
   "outputs": [],
   "source": [
    "def loss_deriv_1(predicted):\n",
    "    return predicted * (1.0 - predicted) # σ(w′ · x) * (1 - σ(w′ · x))"
   ]
  },
  {
   "cell_type": "markdown",
   "metadata": {},
   "source": [
    "$$ \\frac{\\partial z}{\\partial w} =  x^{t} $$ <br>\n",
    "Since the transpose of a 1d array is still a 1d array (i.e. the same array), $ x^{t} = x $"
   ]
  },
  {
   "cell_type": "code",
   "execution_count": 16,
   "metadata": {},
   "outputs": [],
   "source": [
    "def loss_deriv_2(x):\n",
    "    return np.array(x) # x"
   ]
  },
  {
   "cell_type": "markdown",
   "metadata": {},
   "source": [
    "By the chain rule, <br>\n",
    "$$ \\frac{\\partial L_i}{\\partial w} = \\frac{\\partial L_i}{\\partial r} * \\frac{\\partial r}{\\partial z} * \\frac{\\partial z}{\\partial w} = (\\sigma(w^{t} \\cdot x) - y)*\\sigma(w^{t} \\cdot x)*(1-\\sigma(w^{t} \\cdot x))*x $$ "
   ]
  },
  {
   "cell_type": "markdown",
   "metadata": {},
   "source": [
    "Core function to output $ \\nabla L_i(w) $  at one iteration with respect to one labeled sample $ (x^{i}, y^{i}) $:"
   ]
  },
  {
   "cell_type": "code",
   "execution_count": 17,
   "metadata": {},
   "outputs": [],
   "source": [
    "def grad(w_i, x_i, y_i): \n",
    "    # Forward\n",
    "    z = np.dot(w_i, x_i)\n",
    "    #print(\"z: \", z)\n",
    "\n",
    "    predicted = sigmoid(z)\n",
    "    #print(\"predicted: \", predicted)\n",
    "    #print(\"target: \", y)\n",
    "\n",
    "    err = loss(predicted, y_i)\n",
    "    #print(\"error by the loss function: \", err)\n",
    "\n",
    "    # Backward \n",
    "    g1 = loss_deriv(predicted, y_i)\n",
    "    g2 = loss_deriv_1(predicted)\n",
    "    g3 = loss_deriv_2(x_i)\n",
    "    \n",
    "    grad = g3 * g2 * g1\n",
    "    #print(\"grandient: \", grad)\n",
    "\n",
    "    return grad"
   ]
  },
  {
   "cell_type": "markdown",
   "metadata": {},
   "source": [
    "Update w at the end of each iteration: $ w = w- \\nabla_w L_i(w) $"
   ]
  },
  {
   "cell_type": "code",
   "execution_count": 18,
   "metadata": {},
   "outputs": [],
   "source": [
    "def update_w(w, w_grad, learning_rate): # update w\n",
    "    return w - learning_rate * w_grad\n",
    "\n",
    "learning_rate = 0.015"
   ]
  },
  {
   "cell_type": "markdown",
   "metadata": {},
   "source": [
    "### Gradient Descent <br>\n",
    "the loss function of which averaged over all the points in the training set, and our goal is to find a $w$ which minimizes the MSE: <br>\n",
    "$$ MSE(w) = \\frac{1}{m} \\sum_{i=1}^{m} L_i(w) = \\frac{1}{m} \\sum_{i=1}^{m} \\frac{1}{2} \\left( \\sigma(w^{t} \\cdot x^{i}) - y^{i} \\right)^2$$"
   ]
  },
  {
   "cell_type": "markdown",
   "metadata": {},
   "source": [
    "so <br>\n",
    "$$\\nabla_w MSE(w) = \\frac{1}{m} \\sum_{i=1}^{m} \\nabla_w L_i(w) $$"
   ]
  },
  {
   "cell_type": "markdown",
   "metadata": {},
   "source": [
    "iterations to update $w$ with respect to all the samples $ (x^{1}, y^{1}), ..., (x^{m}, y^{m}) $:"
   ]
  },
  {
   "cell_type": "code",
   "execution_count": 19,
   "metadata": {},
   "outputs": [],
   "source": [
    "def gradient_descent(w,X,y): # need to input an initial w\n",
    "    for _ in range(2000): # of update w\n",
    "        #print ('now w is:', w)\n",
    "        \n",
    "        w_i = []\n",
    "        for x_i,y_i in zip(X,y): \n",
    "            w_i.append(grad(w, x_i, y_i))\n",
    "        w_grad = np.mean(w_i, axis=0)    # average over all the points\n",
    "        w = update_w(w, w_grad, learning_rate)\n",
    "        \n",
    "    #print ('predicted w:', w)\n",
    "    return w"
   ]
  },
  {
   "cell_type": "markdown",
   "metadata": {},
   "source": [
    "investigate $∥w − w′∥$:"
   ]
  },
  {
   "cell_type": "code",
   "execution_count": 20,
   "metadata": {},
   "outputs": [],
   "source": [
    "def w_diff2(m):  # m of samples\n",
    "    #w0 = np.random.rand(10)\n",
    "    w0 = np.zeros(10) # initialize w\n",
    "    \n",
    "    w_diff2 = []\n",
    "    for _ in range(1): # repeat 10 times\n",
    "        X = generate_data(m)[0]\n",
    "        y = generate_data(m)[1]\n",
    "        w = generate_data(m)[2]\n",
    "        #print ('real w:', w)\n",
    "       \n",
    "        w_diff2.append(np.linalg.norm(w-gradient_descent(w0,X,y))) # ∥w − w′∥\n",
    " \n",
    "    return np.mean(w_diff2)\n"
   ]
  },
  {
   "cell_type": "code",
   "execution_count": 21,
   "metadata": {},
   "outputs": [],
   "source": [
    "start2 = time.time()"
   ]
  },
  {
   "cell_type": "code",
   "execution_count": 22,
   "metadata": {},
   "outputs": [
    {
     "data": {
      "text/plain": [
       "[1.491301198627394,\n",
       " 1.0949527082060033,\n",
       " 0.8876048109503731,\n",
       " 1.0744961605020709,\n",
       " 1.0214553796193349]"
      ]
     },
     "execution_count": 22,
     "metadata": {},
     "output_type": "execute_result"
    }
   ],
   "source": [
    "GD_ans = [w_diff2(m_i) for m_i in M] # M = [50,100,150,200,250]\n",
    "GD_ans"
   ]
  },
  {
   "cell_type": "code",
   "execution_count": 23,
   "metadata": {},
   "outputs": [
    {
     "name": "stdout",
     "output_type": "stream",
     "text": [
      "40.08903098106384\n"
     ]
    }
   ],
   "source": [
    "end2 = time.time()\n",
    "T.append(end2 - start2)\n",
    "print(end2 - start2)"
   ]
  },
  {
   "cell_type": "code",
   "execution_count": null,
   "metadata": {},
   "outputs": [],
   "source": []
  },
  {
   "cell_type": "markdown",
   "metadata": {},
   "source": [
    "## Algorithm 3: stochastic gradient descent with square loss\n",
    "Similar to gradient descent, except we use the gradient at a single random training point every iteration."
   ]
  },
  {
   "cell_type": "code",
   "execution_count": 24,
   "metadata": {},
   "outputs": [],
   "source": [
    "def SGD(w,X,y): # need to input an initial w\n",
    "    for _ in range(2000): # of updates\n",
    "        x_i, y_i = random.choices(list(zip(X, y)))[0] # randomly pick one sample with replacement\n",
    "        w_grad = grad(w, x_i, y_i)\n",
    "\n",
    "        w = update_w(w, w_grad, learning_rate)\n",
    "    return w"
   ]
  },
  {
   "cell_type": "code",
   "execution_count": 25,
   "metadata": {},
   "outputs": [],
   "source": [
    "def w_diff3(m):  # m of samples\n",
    "    w0 = np.zeros(10) # initialize w\n",
    "    \n",
    "    w_diff3 = []\n",
    "    for _ in range(10): # repeat 10 times\n",
    "        X = generate_data(m)[0]\n",
    "        y = generate_data(m)[1]\n",
    "        w = generate_data(m)[2]\n",
    "       \n",
    "        w_diff3.append(np.linalg.norm(w-SGD(w0,X,y))) # ∥w − w′∥\n",
    " \n",
    "    return np.mean(w_diff3)"
   ]
  },
  {
   "cell_type": "code",
   "execution_count": 26,
   "metadata": {},
   "outputs": [],
   "source": [
    "start3 = time.time()"
   ]
  },
  {
   "cell_type": "code",
   "execution_count": 27,
   "metadata": {},
   "outputs": [
    {
     "data": {
      "text/plain": [
       "[1.3321412381571984,\n",
       " 1.1746529283685774,\n",
       " 1.0488607863662032,\n",
       " 1.1164874979663049,\n",
       " 1.1022937402332578]"
      ]
     },
     "execution_count": 27,
     "metadata": {},
     "output_type": "execute_result"
    }
   ],
   "source": [
    "SGD_ans = [w_diff3(m_i) for m_i in M] # M = [50,100,150,200,250]\n",
    "SGD_ans"
   ]
  },
  {
   "cell_type": "code",
   "execution_count": 28,
   "metadata": {},
   "outputs": [
    {
     "name": "stdout",
     "output_type": "stream",
     "text": [
      "6.202341079711914\n"
     ]
    }
   ],
   "source": [
    "end3 = time.time()\n",
    "T.append(end3 - start3)\n",
    "print(end3 - start3)"
   ]
  },
  {
   "cell_type": "markdown",
   "metadata": {
    "colab_type": "text",
    "id": "5A-dLi3TSRJ-"
   },
   "source": [
    "## Evaluation\n",
    "\n",
    "Measure error $\\|w - \\hat{w}\\|_2$ for each method at different sample size. For any\n",
    "  fixed value of $m$, choose many different $w$'s and average the\n",
    "  values $\\|w - \n",
    "  \\hat{w}\\|_2$ for Algorithms 1, 2 and 3.  Plot the results\n",
    "  for for each algorithm as you make $m$ large (use $m=50, 100, 150, 200, 250$).\n",
    "  Also record, for each algorithm, the time taken to run the overall experiment."
   ]
  },
  {
   "cell_type": "code",
   "execution_count": 29,
   "metadata": {},
   "outputs": [
    {
     "data": {
      "image/png": "[encoded data removed]",
      "text/plain": [
       "<Figure size 576x432 with 1 Axes>"
      ]
     },
     "metadata": {
      "needs_background": "light"
     },
     "output_type": "display_data"
    }
   ],
   "source": [
    "x_values = [i for i in range(1,6)]\n",
    "\n",
    "fig = plt.figure(figsize=(8, 6))\n",
    "plt.plot(x_values, logreg_ans, label='logistic regression', marker='s', markersize=10)\n",
    "plt.plot(x_values, GD_ans, label='gradient descent', marker='o', markersize=10)\n",
    "plt.plot(x_values, SGD_ans, label='SGD', marker='^', markersize=10)\n",
    "\n",
    "labels = ['50', '100', '150', '200', '250']\n",
    "plt.xticks(x_values, labels)\n",
    "\n",
    "plt.xlabel('# of samples')\n",
    "plt.ylabel('∥w − w′∥')\n",
    "plt.legend(loc = 'upper right', \n",
    "                    shadow=True,\n",
    "                    prop={'weight':'roman','size':'medium'})\n",
    "\n",
    "plt.show()"
   ]
  },
  {
   "cell_type": "code",
   "execution_count": 30,
   "metadata": {},
   "outputs": [
    {
     "data": {
      "text/plain": [
       "[0.5768938064575195, 40.08903098106384, 6.202341079711914]"
      ]
     },
     "execution_count": 30,
     "metadata": {},
     "output_type": "execute_result"
    }
   ],
   "source": [
    "T"
   ]
  },
  {
   "cell_type": "code",
   "execution_count": 31,
   "metadata": {},
   "outputs": [
    {
     "data": {
      "image/png": "[encoded data removed]",
      "text/plain": [
       "<Figure size 576x432 with 1 Axes>"
      ]
     },
     "metadata": {
      "needs_background": "light"
     },
     "output_type": "display_data"
    }
   ],
   "source": [
    "x_values = [i for i in range(1,4)]\n",
    "\n",
    "fig = plt.figure(figsize=(8, 6))\n",
    "plt.bar(x_values, T, color ='maroon', width = 0.4)\n",
    "\n",
    "labels = ['logistic', 'GD', 'SGD']\n",
    "plt.xticks(x_values, labels)\n",
    "\n",
    "plt.ylabel('Time taken (s)')\n",
    "\n",
    "plt.show()"
   ]
  },
  {
   "cell_type": "code",
   "execution_count": null,
   "metadata": {},
   "outputs": [],
   "source": []
  },
  {
   "cell_type": "markdown",
   "metadata": {},
   "source": [
    "# Problem 2"
   ]
  },
  {
   "cell_type": "code",
   "execution_count": 32,
   "metadata": {},
   "outputs": [],
   "source": [
    "from sklearn import datasets\n",
    "from sklearn.ensemble import AdaBoostClassifier\n",
    "from sklearn.tree import DecisionTreeClassifier\n",
    "from sklearn.metrics import accuracy_score \n",
    "from sklearn.model_selection import KFold"
   ]
  },
  {
   "cell_type": "code",
   "execution_count": 33,
   "metadata": {},
   "outputs": [],
   "source": [
    "cancer = datasets.load_breast_cancer()"
   ]
  },
  {
   "cell_type": "markdown",
   "metadata": {},
   "source": [
    "For each depth in $1, \\dots, 5$, instantiate an AdaBoost classifier with the base learner set to be a decision tree of that depth (set `n_estimators=10` and `learning_rate=1`), and then record the 10-fold cross-validated error on the entire breast cancer data set. Plot the resulting curve of accuracy against base classifier depth. Use $101$ as your random state for both the base learner as well as the AdaBoost classifier every time."
   ]
  },
  {
   "cell_type": "code",
   "execution_count": 34,
   "metadata": {},
   "outputs": [],
   "source": [
    "X = cancer.data\n",
    "y = cancer.target"
   ]
  },
  {
   "cell_type": "code",
   "execution_count": 35,
   "metadata": {},
   "outputs": [
    {
     "name": "stdout",
     "output_type": "stream",
     "text": [
      "[0.9701, 0.9684, 0.9684, 0.9684, 0.9719]\n"
     ]
    }
   ],
   "source": [
    "accuracies_CV = []\n",
    "kf = KFold(n_splits=10, random_state=101, shuffle=True)  # cross-validation, 10-fold\n",
    "\n",
    "for j in range(1,6): # DecisionTree: depth from 1 to 5\n",
    "    accuracies_j = []\n",
    "    for train_index, test_index in kf.split(X):\n",
    "        data_train   = X[train_index]\n",
    "        target_train = y[train_index]  \n",
    "        data_test    = X[test_index]\n",
    "        target_test  = y[test_index]\n",
    "\n",
    "        # Ada-boosting classifier, base learner of which is DecisionTree with different depth\n",
    "        clf_Ada = AdaBoostClassifier(DecisionTreeClassifier(max_depth=j), \n",
    "                                     n_estimators=100, learning_rate=1, random_state=101) \n",
    "        clf_Ada.fit(data_train,target_train)\n",
    "        preds = clf_Ada.predict(data_test)\n",
    "        \n",
    "        # accuracy of each fold    \n",
    "        accuracy = accuracy_score(target_test, preds)\n",
    "        accuracies_j.append(accuracy)\n",
    "\n",
    "# average accuracy over all folds\n",
    "    average_accuracy = round(np.mean(accuracies_j),4)\n",
    "    accuracies_CV.append(average_accuracy)\n",
    "\n",
    "print(accuracies_CV)"
   ]
  },
  {
   "cell_type": "code",
   "execution_count": 36,
   "metadata": {},
   "outputs": [
    {
     "data": {
      "image/png": "[encoded data removed]",
      "text/plain": [
       "<Figure size 576x432 with 1 Axes>"
      ]
     },
     "metadata": {
      "needs_background": "light"
     },
     "output_type": "display_data"
    }
   ],
   "source": [
    "x_values = [i for i in range(1,6)]\n",
    "\n",
    "fig = plt.figure(figsize=(8, 6))\n",
    "plt.plot(x_values, np.dot(accuracies_CV, 100), marker='s', markersize=10)\n",
    "plt.ylim(95, 100)\n",
    "plt.xticks(x_values)\n",
    "\n",
    "plt.xlabel('Max depth of base learner')\n",
    "plt.ylabel('Accuracy %')\n",
    "\n",
    "plt.show()"
   ]
  },
  {
   "cell_type": "code",
   "execution_count": null,
   "metadata": {},
   "outputs": [],
   "source": []
  },
  {
   "cell_type": "code",
   "execution_count": null,
   "metadata": {},
   "outputs": [],
   "source": []
  }
 ],
 "metadata": {
  "colab": {
   "name": "hw2_programming_sol.ipynb",
   "provenance": [],
   "version": "0.3.2"
  },
  "kernelspec": {
   "display_name": "Python 3",
   "language": "python",
   "name": "python3"
  },
  "language_info": {
   "codemirror_mode": {
    "name": "ipython",
    "version": 3
   },
   "file_extension": ".py",
   "mimetype": "text/x-python",
   "name": "python",
   "nbconvert_exporter": "python",
   "pygments_lexer": "ipython3",
   "version": "3.7.7"
  }
 },
 "nbformat": 4,
 "nbformat_minor": 1
}
